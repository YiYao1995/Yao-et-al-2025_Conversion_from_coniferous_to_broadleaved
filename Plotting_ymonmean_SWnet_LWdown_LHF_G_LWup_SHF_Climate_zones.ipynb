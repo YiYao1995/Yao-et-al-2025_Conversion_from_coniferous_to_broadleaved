{
 "cells": [
  {
   "cell_type": "code",
   "execution_count": 1,
   "id": "ffa2df16-7982-482b-8f6b-e7374a95113c",
   "metadata": {},
   "outputs": [],
   "source": [
    "import netCDF4 as nc\n",
    "import numpy\n",
    "import warnings\n",
    "warnings.filterwarnings(\"ignore\", category=DeprecationWarning)\n",
    "warnings.filterwarnings(\"ignore\", category=FutureWarning)\n",
    "warnings.filterwarnings(\"ignore\", category=UserWarning)\n",
    "import os\n",
    "import cartopy.feature as cfeature\n",
    "import glob\n",
    "import numpy as np\n",
    "import pandas as pd\n",
    "import xarray as xr\n",
    "import matplotlib as mpl\n",
    "import matplotlib.pyplot as plt\n",
    "import matplotlib.colors as colors\n",
    "from matplotlib import cm\n",
    "#import seaborn as sns\n",
    "import cartopy.crs as ccrs\n",
    "import cartopy.feature as cf\n",
    "import mplotutils as mpu # helper functions for cartopy and matplotlib\n",
    "#import regionmask\n",
    "from func_plots import *\n",
    "from func_stats import *\n",
    "import geopandas as gpd\n",
    "import regionmask\n",
    "\n",
    "import cartopy.crs as ccrs\n",
    "import cartopy.feature as cf\n",
    "import mplotutils as mpu # helper functions for cartopy and matplotlib"
   ]
  },
  {
   "cell_type": "code",
   "execution_count": 2,
   "id": "56f0f9fb-a5d2-4e39-b0a0-6bf8942ffd32",
   "metadata": {},
   "outputs": [],
   "source": [
    "# Regional plot with coastline and country borders\n",
    "def format_axes(axes):\n",
    "    for i, ax in enumerate(axes):\n",
    "        #ax.set_title(plot_names[i])\n",
    "        ax.coastlines(resolution='50m', linewidth=0.45)\n",
    "        ax.add_feature(cf.BORDERS, linewidth=0.3)\n",
    "        ax.set_extent([lonmin, lonmax, latmin, latmax], crs=data_proj)\n",
    "        ax.gridlines(draw_labels=False, linewidth=0.3, color=\"gray\", xlocs=range(-180, 180, 10), ylocs=range(-90, 90, 10))\n",
    "\n",
    "def add_headers(fig, *, row_headers=None, col_headers=None, row_pad=1, col_pad=4, rotate_row_headers=True, **text_kwargs):\n",
    "    # Based on https://stackoverflow.com/a/25814386\n",
    "    axes = fig.get_axes()\n",
    "\n",
    "    for ax in axes:\n",
    "        sbs = ax.get_subplotspec()\n",
    "\n",
    "        # Putting headers on cols\n",
    "        if (col_headers is not None) and sbs.is_first_row():\n",
    "            ax.annotate(\n",
    "                col_headers[sbs.colspan.start],\n",
    "                xy=(0.5, 1),\n",
    "                xytext=(0, col_pad),\n",
    "                xycoords=\"axes fraction\",\n",
    "                textcoords=\"offset points\",\n",
    "                ha=\"center\",\n",
    "                va=\"baseline\",\n",
    "                **text_kwargs,\n",
    "            )\n",
    "\n",
    "        # Putting headers on rows\n",
    "        if (row_headers is not None) and sbs.is_first_col():\n",
    "            ax.annotate(\n",
    "                row_headers[sbs.rowspan.start],\n",
    "                xy=(0, 0.5),\n",
    "                xytext=(-ax.yaxis.labelpad - row_pad, 0),\n",
    "                xycoords=ax.transAxes, # ax.yaxis.label replaced by ax.transAxes\n",
    "                textcoords=\"offset points\",\n",
    "                ha=\"center\",\n",
    "                va=\"center\", # vertical even after rotation\n",
    "                rotation=rotate_row_headers * 90,\n",
    "                **text_kwargs,\n",
    "            )\n",
    "\n",
    "lonmin, lonmax, latmin, latmax = [-11, 37, 35, 70.5]                   # window for plotting\n",
    "set_lonmin, set_lonmax, set_latmin, set_latmax = [-35, 65, 30, 72.6]   # subset the data to get sensible vmin and vmax for the colorbar\n",
    "data_proj = ccrs.PlateCarree()\n",
    "map_proj = ccrs.LambertConformal(central_longitude=15) # for regional maps"
   ]
  },
  {
   "cell_type": "code",
   "execution_count": 3,
   "id": "bead16bf-2604-4592-b600-bbe10563e014",
   "metadata": {},
   "outputs": [],
   "source": [
    "file_obj = nc.Dataset('/landclim2/yiyaoy/COSMO-CLM2-simulations/timmean/clm5.0_eur0.5_control_h0_2020-2024.nc_timmean')\n",
    "lat = file_obj.variables['lat']\n",
    "lat = np.array(lat)\n",
    "lon = file_obj.variables['lon']\n",
    "lon = np.array(lon)\n",
    "lon[lon>180]=lon[lon>180]-360"
   ]
  },
  {
   "cell_type": "code",
   "execution_count": 4,
   "id": "9b37c87d-a1ee-46f7-b445-748a59572213",
   "metadata": {},
   "outputs": [],
   "source": [
    "# Metzger et al. 2005 regions (\"Environmental Stratification of Europe\")\n",
    "# The sub-regional classification is based on Metzger et al. (2005), aggregated as in Jakob et al. (2014) and in the European chapter of IPCC AR5,\n",
    "# to represent 5 different climate and environmental characteristics: Alpine, Atlantic, Continental, Northern and Southern Europe\n",
    "# Load regions and combine\n",
    "gdf = gpd.read_file('/net/exo/landclim/pesieber/data/Metzger-2005_Env-stratification-Europe/enz_v8.shp').set_index('EnZ_name')\n",
    "regions = gpd.GeoDataFrame({'region': [], 'geometry': []}, crs=gdf.crs)\n",
    "regions.loc[0] = {'region': 'Alpine', 'geometry': gdf.loc[['ALN','ALS']].unary_union}\n",
    "regions.loc[1] = {'region': 'Northern', 'geometry': gdf.loc[['BOR','NEM']].unary_union}\n",
    "regions.loc[2] = {'region': 'Atlantic', 'geometry': gdf.loc[['ATN','ATC','LUS']].unary_union}\n",
    "regions.loc[3] = {'region': 'Continental', 'geometry': gdf.loc[['CON','PAN']].unary_union}\n",
    "regions.loc[4] = {'region': 'Southern', 'geometry': gdf.loc[['MDN','MDS','MDM','ANA']].unary_union}\n",
    "regions = regions.set_crs('EPSG:3035').to_crs('EPSG:4326')"
   ]
  },
  {
   "cell_type": "code",
   "execution_count": 5,
   "id": "adebb113-bd61-417c-94d3-d7a332f77d42",
   "metadata": {},
   "outputs": [],
   "source": [
    "# Generate a 2D or 3D mask that can be applied to xarray data\n",
    "mask_3D = regionmask.mask_3D_geopandas(regions, lon, lat) # 3D for groupby\n",
    "mask_3D = mask_3D.assign_coords(region = regions.region.values) # assign names\n",
    "#mask_3D.to_netcdf(dpath_proc + 'regionmask_3D_Metzger.nc')\n",
    "#region_dict = regions.region.to_dict()\n",
    "mask_regions = regionmask.from_geopandas(regions, names=\"region\", abbrevs=\"_from_name\", name=\"regionmask\") # Regions object\n",
    "mask_2D = regionmask.mask_geopandas(regions, lon, lat) # 2D for plotting\n",
    "#mask_2D.to_netcdf(dpath_proc + 'regionmask_2D_Metzger.nc')\n",
    "regions = mask_3D.region.values"
   ]
  },
  {
   "cell_type": "code",
   "execution_count": 42,
   "id": "c3bb0e18-312f-439a-8b33-014e0ca83373",
   "metadata": {},
   "outputs": [],
   "source": [
    "# 1) Map each “scenario” name to its file\n",
    "FILE_PATHS = {\n",
    "    \"Ctl\":        \"/landclim2/yiyaoy/COSMO-CLM2-simulations/control/clm5/post-processing/monmean/mergetime/clm5.0_eur0.5_control_h0_2025-2059.nc_monmean\",\n",
    "    \"Aff\":     \"/landclim2/yiyaoy/COSMO-CLM2-simulations/all_forest/clm5/post-processing/monmean/mergetime/clm5.0_eur0.5_all_forest_h0_2025-2059.nc_monmean\",\n",
    "    \"Def\":      \"/landclim2/yiyaoy/COSMO-CLM2-simulations/all_grass/clm5/post-processing/monmean/mergetime/clm5.0_eur0.5_all_grass_h0_2025-2059.nc_monmean\",\n",
    "    \"Brd\":      \"/landclim2/yiyaoy/COSMO-CLM2-simulations/only_forest_broadleaf/clm5/post-processing/monmean/mergetime/clm5.0_eur0.5_only_forest_broadleaf_h0_2025-2059.nc_monmean\",\n",
    "    \"AfB\":     \"/landclim2/yiyaoy/COSMO-CLM2-simulations/all_forest_broadleaf/clm5/post-processing/monmean/mergetime/clm5.0_eur0.5_all_forest_broadleaf_h0_2025-2059.nc_monmean\",\n",
    "}\n",
    "\n",
    "def _load_and_region_mean(var, path, mask_2D, region_id):\n",
    "    \"\"\"Open TSA, mask out >1e9, apply region mask, then lon→lat means.\"\"\"\n",
    "    with nc.Dataset(path) as ds:\n",
    "        arr = ds.variables[var][:]       # → (time, lat, lon)\n",
    "    arr = np.squeeze(arr)                 # in case there’s a degenerate dim\n",
    "    arr[arr > 1e9] = np.nan               # drop fill values\n",
    "\n",
    "    # set everything *outside* this region to nan\n",
    "    arr[:, mask_2D != region_id] = np.nan\n",
    "\n",
    "    # first average over lon (axis=2), then over lat (axis=1)\n",
    "    return np.nanmean(np.nanmean(arr, axis=2), axis=1)\n",
    "\n",
    "\n",
    "def get_mean_data_for_plot(var, region_id):\n",
    "    \"\"\"\n",
    "    Returns a dict mapping each scenario to its time‐series of region‐mean TSA.\n",
    "    E.g. out[\"control\"] is the control run’s 1D array (time down to region‐mean).\n",
    "    \"\"\"\n",
    "    return {\n",
    "        name: _load_and_region_mean(var, path, mask_2D, region_id)\n",
    "        for name, path in FILE_PATHS.items()\n",
    "    }"
   ]
  },
  {
   "cell_type": "code",
   "execution_count": null,
   "id": "d03f6c59-4ba0-40b0-83d5-089a1f41759a",
   "metadata": {},
   "outputs": [],
   "source": [
    "LWup_M_0 = get_mean_data_for_plot('LWup', 0)\n",
    "SHF_M_0 = get_mean_data_for_plot('FSH', 0)\n",
    "LHF_M_0 = get_mean_data_for_plot('EFLX_LH_TOT', 0)\n",
    "LWdown_M_0 = get_mean_data_for_plot('LWdown', 0)\n",
    "SWup_M_0 = get_mean_data_for_plot('SWup', 0)\n",
    "SWdown_M_0 = get_mean_data_for_plot('SWdown', 0)\n",
    "G_M_0 = get_mean_data_for_plot('EFLX_GNET', 0)\n",
    "\n",
    "LWup_M_1 = get_mean_data_for_plot('LWup', 1)\n",
    "SHF_M_1 = get_mean_data_for_plot('FSH', 1)\n",
    "LHF_M_1 = get_mean_data_for_plot('EFLX_LH_TOT', 1)\n",
    "LWdown_M_1 = get_mean_data_for_plot('LWdown', 1)\n",
    "SWup_M_1 = get_mean_data_for_plot('SWup', 1)\n",
    "SWdown_M_1 = get_mean_data_for_plot('SWdown', 1)\n",
    "G_M_1 = get_mean_data_for_plot('EFLX_GNET', 1)\n",
    "\n",
    "LWup_M_2 = get_mean_data_for_plot('LWup', 2)\n",
    "SHF_M_2 = get_mean_data_for_plot('FSH', 2)\n",
    "LHF_M_2 = get_mean_data_for_plot('EFLX_LH_TOT', 2)\n",
    "LWdown_M_2 = get_mean_data_for_plot('LWdown', 2)\n",
    "SWup_M_2 = get_mean_data_for_plot('SWup', 2)\n",
    "SWdown_M_2 = get_mean_data_for_plot('SWdown', 2)\n",
    "G_M_2 = get_mean_data_for_plot('EFLX_GNET', 2)\n",
    "\n",
    "LWup_M_3 = get_mean_data_for_plot('LWup', 3)\n",
    "SHF_M_3 = get_mean_data_for_plot('FSH', 3)\n",
    "LHF_M_3 = get_mean_data_for_plot('EFLX_LH_TOT', 3)\n",
    "LWdown_M_3 = get_mean_data_for_plot('LWdown', 3)\n",
    "SWup_M_3 = get_mean_data_for_plot('SWup', 3)\n",
    "SWdown_M_3 = get_mean_data_for_plot('SWdown', 3)\n",
    "G_M_3 = get_mean_data_for_plot('EFLX_GNET', 3)\n",
    "\n",
    "LWup_M_4 = get_mean_data_for_plot('LWup', 4)\n",
    "SHF_M_4 = get_mean_data_for_plot('FSH', 4)\n",
    "LHF_M_4 = get_mean_data_for_plot('EFLX_LH_TOT', 4)\n",
    "LWdown_M_4 = get_mean_data_for_plot('LWdown', 4)\n",
    "SWup_M_4 = get_mean_data_for_plot('SWup', 4)\n",
    "SWdown_M_4 = get_mean_data_for_plot('SWdown', 4)\n",
    "G_M_4 = get_mean_data_for_plot('EFLX_GNET', 4)"
   ]
  },
  {
   "cell_type": "code",
   "execution_count": 54,
   "id": "0119eb94-5a8c-4c37-b04b-2b7940d237db",
   "metadata": {},
   "outputs": [
    {
     "data": {
      "text/plain": [
       "(420,)"
      ]
     },
     "execution_count": 54,
     "metadata": {},
     "output_type": "execute_result"
    }
   ],
   "source": [
    "SHF_M_0['Ctl'].shape"
   ]
  },
  {
   "cell_type": "code",
   "execution_count": 55,
   "id": "19837716-9efb-440e-a558-5e32b8c93a5d",
   "metadata": {},
   "outputs": [],
   "source": [
    "n_months = 12\n",
    "n_years = 35\n",
    "def plot_delta_TSA_SHF(var_exp1_control_daymean_SHF, var_exp1_control_daymean_LWup, str_1, var_exp1_control_daymean_SWup, var_exp1_control_daymean_SWdown, var_exp1_control_daymean_LWdown, var_exp1_control_daymean_LHF, var_exp1_control_daymean_Gnet, region_name, ylim1, ylim2):\n",
    "    var_exp1_control_daymean_SHF_mean = np.mean(var_exp1_control_daymean_SHF.reshape((n_months, n_years), order='F'), axis=1)\n",
    "    \n",
    "\n",
    "    var_exp1_control_daymean_LWup_mean = np.mean(var_exp1_control_daymean_LWup.reshape((n_months, n_years), order='F'), axis=1)\n",
    "    \n",
    "\n",
    "    var_exp1_control_daymean_SWup_mean = np.mean(var_exp1_control_daymean_SWup.reshape((n_months, n_years), order='F'), axis=1)\n",
    "    \n",
    "\n",
    "    var_exp1_control_daymean_SWdown_mean = np.mean(var_exp1_control_daymean_SWdown.reshape((n_months, n_years), order='F'), axis=1)\n",
    "    \n",
    "\n",
    "    var_exp1_control_daymean_LWdown_mean = np.mean(var_exp1_control_daymean_LWdown.reshape((n_months, n_years), order='F'), axis=1)\n",
    "    \n",
    "\n",
    "    var_exp1_control_daymean_LHF_mean = np.mean(var_exp1_control_daymean_LHF.reshape((n_months, n_years), order='F'), axis=1)\n",
    "    \n",
    "\n",
    "    var_exp1_control_daymean_Gnet_mean = np.mean(var_exp1_control_daymean_Gnet.reshape((n_months, n_years), order='F'), axis=1)\n",
    "    \n",
    "\n",
    "    plt.plot(X, var_exp1_control_daymean_LWup_mean, color='dodgerblue', label='$\\\\Delta$$\\mathregular{LW_{up,'+str_1+'}}$',marker='o')\n",
    "    plt.plot(X, var_exp1_control_daymean_SHF_mean, color='tomato', label='$\\\\Delta$$\\mathregular{H_{up,'+str_1+'}}$',marker='o')\n",
    "    plt.legend(fontsize=12,loc='upper left', framealpha=0.5)\n",
    "    plt.hlines(y=0, xmin=-1, xmax=12, color='k')\n",
    "    \n",
    "    plt.xlim(-1,12)\n",
    "    # plt.legend(fontsize=12,loc='upper left')\n",
    "    plt.xticks(X, ['J','F','M','A','M','J','J','A','S','O','N','D'], fontsize=16)\n",
    "    plt.yticks(fontsize=14)\n",
    "    \n",
    "    # plt.xlabel('Alpine', fontsize=16)\n",
    "    ax1.set_title(region_name, fontsize=20)\n",
    "    plt.ylim(ylim1,ylim2)\n",
    "    ax2 = ax1.twinx()\n",
    "\n",
    "    plt.bar(X-0.3, var_exp1_control_daymean_SWdown_mean-var_exp1_control_daymean_SWup_mean, width=0.2, color='fuchsia', alpha=0.8, label='$\\\\Delta$$\\mathregular{SW_{net,'+str_1+'}}$')\n",
    "    plt.bar(X-0.1, var_exp1_control_daymean_LWdown_mean, width=0.2, color='lightgreen', alpha=0.8, label='$\\\\Delta$$\\mathregular{LW_{down,'+str_1+'}}$')\n",
    "    plt.bar(X+0.1, -var_exp1_control_daymean_Gnet_mean, width=0.2, color='sandybrown', alpha=0.8, label='-$\\\\Delta$$\\mathregular{G_{down,'+str_1+'}}$')\n",
    "    plt.bar(X+0.3, -var_exp1_control_daymean_LHF_mean, width=0.2, color='aqua', alpha=0.8, label='-$\\\\Delta$$\\mathregular{LE_{up,'+str_1+'}}$')\n",
    "    \n",
    "    \n",
    "    \n",
    "    plt.ylim(ylim1,ylim2)\n",
    "    plt.yticks(fontsize=14)\n",
    "    plt.legend(fontsize=12,loc='upper right', framealpha=0.5)"
   ]
  },
  {
   "cell_type": "code",
   "execution_count": 67,
   "id": "d9c1a95b-42f0-47b4-9507-284706bdbe3b",
   "metadata": {},
   "outputs": [
    {
     "data": {
      "text/plain": [
       "(12, 35)"
      ]
     },
     "execution_count": 67,
     "metadata": {},
     "output_type": "execute_result"
    }
   ],
   "source": [
    "LWup_M_0['Ctl'].reshape((n_months, n_years), order='F').shape"
   ]
  },
  {
   "cell_type": "code",
   "execution_count": 68,
   "id": "d38213a0-48e6-44f8-8820-f86c9f8c9e4c",
   "metadata": {},
   "outputs": [],
   "source": [
    "x1 = np.mean(test[5:8, :], axis=0)"
   ]
  },
  {
   "cell_type": "code",
   "execution_count": 69,
   "id": "91796c8b-3fe6-42ee-9e72-1b92c203b18d",
   "metadata": {},
   "outputs": [
    {
     "data": {
      "text/plain": [
       "(35,)"
      ]
     },
     "execution_count": 69,
     "metadata": {},
     "output_type": "execute_result"
    }
   ],
   "source": [
    "x1.shape"
   ]
  },
  {
   "cell_type": "code",
   "execution_count": 78,
   "id": "bfbaed5d-fb58-4de2-abe5-b3f355eec2d6",
   "metadata": {},
   "outputs": [],
   "source": [
    "import scipy.stats as stats\n",
    "def get_value(data):\n",
    "    data_reshape = data.reshape((n_months, n_years), order='F')\n",
    "    summer_data = data_reshape[5:8, :]\n",
    "    summer_mean = np.mean(summer_data, axis=0)\n",
    "    data_mean = np.mean(summer_mean, axis=0)\n",
    "    std_summer = np.std(summer_mean, ddof=1)\n",
    "    n = len(summer_mean)\n",
    "    se = std_summer / np.sqrt(n)\n",
    "    confidence = 0.95\n",
    "    t_score = stats.t.ppf((1 + confidence) / 2.0, df=n-1)\n",
    "    \n",
    "    return data_mean, t_score*se"
   ]
  },
  {
   "cell_type": "code",
   "execution_count": 130,
   "id": "0007fab6-d0eb-4045-b551-a16879e3b3ad",
   "metadata": {},
   "outputs": [
    {
     "data": {
      "text/plain": [
       "(7.1758394, 0.3457568471254527)"
      ]
     },
     "execution_count": 130,
     "metadata": {},
     "output_type": "execute_result"
    }
   ],
   "source": [
    "get_value(G_M_0['Def'])"
   ]
  },
  {
   "cell_type": "code",
   "execution_count": 219,
   "id": "14cbf211-54c5-46b6-ac33-c878e9598ade",
   "metadata": {},
   "outputs": [
    {
     "name": "stdout",
     "output_type": "stream",
     "text": [
      "268.68±1.65\n",
      "268.07±1.70\n",
      "269.19±1.68\n",
      "266.42±1.60\n",
      "265.85±1.71\n"
     ]
    }
   ],
   "source": [
    "data_raw = SWdown_M_4\n",
    "data = get_value(data_raw['Ctl'])\n",
    "print(\"{:.2f}\".format(data[0]) + \"±\" + \"{:.2f}\".format(data[1]))\n",
    "data = get_value(data_raw['Brd'])\n",
    "print(\"{:.2f}\".format(data[0]) + \"±\" + \"{:.2f}\".format(data[1]))\n",
    "data = get_value(data_raw['Def'])\n",
    "print(\"{:.2f}\".format(data[0]) + \"±\" + \"{:.2f}\".format(data[1]))\n",
    "data = get_value(data_raw['Aff'])\n",
    "print(\"{:.2f}\".format(data[0]) + \"±\" + \"{:.2f}\".format(data[1]))\n",
    "data = get_value(data_raw['AfB'])\n",
    "print(\"{:.2f}\".format(data[0]) + \"±\" + \"{:.2f}\".format(data[1]))"
   ]
  },
  {
   "cell_type": "code",
   "execution_count": null,
   "id": "de5877cd-c1b0-4d41-ae79-f73fd8784996",
   "metadata": {},
   "outputs": [],
   "source": [
    "\n",
    "fig, axes = plt.subplots(5,2, figsize=(12,20), subplot_kw=dict(projection=map_proj, facecolor=\"lightgrey\"))\n",
    "fig.subplots_adjust(hspace=0.3, wspace=0.4, left=0.05, right=0.95, top=0.95, bottom=0.05)\n",
    "\n",
    "X = np.array(range(12))\n",
    "\n",
    "ax1 = plt.subplot(521, frameon=True)\n",
    "plt.ylabel('$\\\\Delta$Energy flux ($\\mathregular{W/m^2}$)', fontsize=16)\n",
    "plt.title('a', fontsize=14, loc='left', weight='bold')\n",
    "plot_delta_TSA_SHF(SHF_M_0['Brd']-SHF_M_0['Ctl'], LWup_M_0['Brd']-LWup_M_0['Ctl'], 'Brd', SWup_M_0['Brd']-SWup_M_0['Ctl'], SWdown_M_0['Brd']-SWdown_M_0['Ctl'], LWdown_M_0['Brd']-LWdown_M_0['Ctl'], LHF_M_0['Brd']-LHF_M_0['Ctl'], G_M_0['Brd']-G_M_0['Ctl'], 'Alpine', -20, 20)\n",
    "\n",
    "\n",
    "ax1 = plt.subplot(523, frameon=True)\n",
    "plt.ylabel('$\\\\Delta$Energy flux ($\\mathregular{W/m^2}$)', fontsize=16)\n",
    "plt.title('c', fontsize=14, loc='left', weight='bold')\n",
    "plot_delta_TSA_SHF(SHF_M_1['Brd']-SHF_M_1['Ctl'], LWup_M_1['Brd']-LWup_M_1['Ctl'], 'Brd', SWup_M_1['Brd']-SWup_M_1['Ctl'], SWdown_M_1['Brd']-SWdown_M_1['Ctl'], LWdown_M_1['Brd']-LWdown_M_1['Ctl'], LHF_M_1['Brd']-LHF_M_1['Ctl'], G_M_1['Brd']-G_M_1['Ctl'], 'Northern', -30, 30)\n",
    "\n",
    "ax1 = plt.subplot(525, frameon=True)\n",
    "plt.ylabel('$\\\\Delta$Energy flux ($\\mathregular{W/m^2}$)', fontsize=16)\n",
    "plt.title('e', fontsize=14, loc='left', weight='bold')\n",
    "plot_delta_TSA_SHF(SHF_M_2['Brd']-SHF_M_2['Ctl'], LWup_M_2['Brd']-LWup_M_2['Ctl'], 'Brd', SWup_M_2['Brd']-SWup_M_2['Ctl'], SWdown_M_2['Brd']-SWdown_M_2['Ctl'], LWdown_M_2['Brd']-LWdown_M_2['Ctl'], LHF_M_2['Brd']-LHF_M_2['Ctl'], G_M_2['Brd']-G_M_2['Ctl'], 'Atlantic', -10, 10)\n",
    "\n",
    "ax1 = plt.subplot(527, frameon=True)\n",
    "plt.ylabel('$\\\\Delta$Energy flux ($\\mathregular{W/m^2}$)', fontsize=16)\n",
    "plt.title('g', fontsize=14, loc='left', weight='bold')\n",
    "plot_delta_TSA_SHF(SHF_M_3['Brd']-SHF_M_3['Ctl'], LWup_M_3['Brd']-LWup_M_3['Ctl'], 'Brd', SWup_M_3['Brd']-SWup_M_3['Ctl'], SWdown_M_3['Brd']-SWdown_M_3['Ctl'], LWdown_M_3['Brd']-LWdown_M_3['Ctl'], LHF_M_3['Brd']-LHF_M_3['Ctl'], G_M_3['Brd']-G_M_3['Ctl'], 'Continental', -10, 10)\n",
    "\n",
    "ax1 = plt.subplot(529, frameon=True)\n",
    "plt.ylabel('$\\\\Delta$Energy flux ($\\mathregular{W/m^2}$)', fontsize=16)\n",
    "plt.title('i', fontsize=14, loc='left', weight='bold')\n",
    "plot_delta_TSA_SHF(SHF_M_4['Brd']-SHF_M_4['Ctl'], LWup_M_4['Brd']-LWup_M_4['Ctl'], 'Brd', SWup_M_4['Brd']-SWup_M_4['Ctl'], SWdown_M_4['Brd']-SWdown_M_4['Ctl'], LWdown_M_4['Brd']-LWdown_M_4['Ctl'], LHF_M_4['Brd']-LHF_M_4['Ctl'], G_M_4['Brd']-G_M_4['Ctl'], 'Southern', -10, 10)\n",
    "\n",
    "\n",
    "\n",
    "ax1 = plt.subplot(522, frameon=True)\n",
    "plt.title('b', fontsize=14, loc='left', weight='bold')\n",
    "plot_delta_TSA_SHF(SHF_M_0['Def']-SHF_M_0['Ctl'], LWup_M_0['Def']-LWup_M_0['Ctl'], 'Def', SWup_M_0['Def']-SWup_M_0['Ctl'], SWdown_M_0['Def']-SWdown_M_0['Ctl'], LWdown_M_0['Def']-LWdown_M_0['Ctl'], LHF_M_0['Def']-LHF_M_0['Ctl'], G_M_0['Def']-G_M_0['Ctl'], 'Alpine', -20, 20)\n",
    "\n",
    "\n",
    "ax1 = plt.subplot(524, frameon=True)\n",
    "plt.title('d', fontsize=14, loc='left', weight='bold')\n",
    "plot_delta_TSA_SHF(SHF_M_1['Def']-SHF_M_1['Ctl'], LWup_M_1['Def']-LWup_M_1['Ctl'], 'Def', SWup_M_1['Def']-SWup_M_1['Ctl'], SWdown_M_1['Def']-SWdown_M_1['Ctl'], LWdown_M_1['Def']-LWdown_M_1['Ctl'], LHF_M_1['Def']-LHF_M_1['Ctl'], G_M_1['Def']-G_M_1['Ctl'], 'Northern', -30, 30)\n",
    "\n",
    "ax1 = plt.subplot(526, frameon=True)\n",
    "plt.title('f', fontsize=14, loc='left', weight='bold')\n",
    "plot_delta_TSA_SHF(SHF_M_2['Def']-SHF_M_2['Ctl'], LWup_M_2['Def']-LWup_M_2['Ctl'], 'Def', SWup_M_2['Def']-SWup_M_2['Ctl'], SWdown_M_2['Def']-SWdown_M_2['Ctl'], LWdown_M_2['Def']-LWdown_M_2['Ctl'], LHF_M_2['Def']-LHF_M_2['Ctl'], G_M_2['Def']-G_M_2['Ctl'], 'Atlantic', -10, 10)\n",
    "\n",
    "ax1 = plt.subplot(528, frameon=True)\n",
    "plt.title('h', fontsize=14, loc='left', weight='bold')\n",
    "plot_delta_TSA_SHF(SHF_M_3['Def']-SHF_M_3['Ctl'], LWup_M_3['Def']-LWup_M_3['Ctl'], 'Def', SWup_M_3['Def']-SWup_M_3['Ctl'], SWdown_M_3['Def']-SWdown_M_3['Ctl'], LWdown_M_3['Def']-LWdown_M_3['Ctl'], LHF_M_3['Def']-LHF_M_3['Ctl'], G_M_3['Def']-G_M_3['Ctl'], 'Continental', -10, 10)\n",
    "\n",
    "ax1 = plt.subplot(5,2,10, frameon=True)\n",
    "plt.title('j', fontsize=14, loc='left', weight='bold')\n",
    "plot_delta_TSA_SHF(SHF_M_4['Def']-SHF_M_4['Ctl'], LWup_M_4['Def']-LWup_M_4['Ctl'], 'Def', SWup_M_4['Def']-SWup_M_4['Ctl'], SWdown_M_4['Def']-SWdown_M_4['Ctl'], LWdown_M_4['Def']-LWdown_M_4['Ctl'], LHF_M_4['Def']-LHF_M_4['Ctl'], G_M_4['Def']-G_M_4['Ctl'], 'Southern', -10, 10)\n"
   ]
  },
  {
   "cell_type": "code",
   "execution_count": null,
   "id": "054b3b13-9718-4fa8-b087-edc1cc93cc33",
   "metadata": {},
   "outputs": [],
   "source": [
    "\n",
    "fig, axes = plt.subplots(5,2, figsize=(12,20), subplot_kw=dict(projection=map_proj, facecolor=\"lightgrey\"))\n",
    "fig.subplots_adjust(hspace=0.3, wspace=0.4, left=0.05, right=0.95, top=0.95, bottom=0.05)\n",
    "\n",
    "X = np.array(range(12))\n",
    "\n",
    "ax1 = plt.subplot(521, frameon=True)\n",
    "plt.ylabel('$\\\\Delta$Energy flux ($\\mathregular{W/m^2}$)', fontsize=16)\n",
    "plt.title('a', fontsize=14, loc='left', weight='bold')\n",
    "plot_delta_TSA_SHF(SHF_M_0['Aff']-SHF_M_0['Ctl'], LWup_M_0['Aff']-LWup_M_0['Ctl'], 'Aff', SWup_M_0['Aff']-SWup_M_0['Ctl'], SWdown_M_0['Aff']-SWdown_M_0['Ctl'], LWdown_M_0['Aff']-LWdown_M_0['Ctl'], LHF_M_0['Aff']-LHF_M_0['Ctl'], G_M_0['Aff']-G_M_0['Ctl'], 'Alpine', -20, 20)\n",
    "\n",
    "\n",
    "ax1 = plt.subplot(523, frameon=True)\n",
    "plt.ylabel('$\\\\Delta$Energy flux ($\\mathregular{W/m^2}$)', fontsize=16)\n",
    "plt.title('c', fontsize=14, loc='left', weight='bold')\n",
    "plot_delta_TSA_SHF(SHF_M_1['Aff']-SHF_M_1['Ctl'], LWup_M_1['Aff']-LWup_M_1['Ctl'], 'Aff', SWup_M_1['Aff']-SWup_M_1['Ctl'], SWdown_M_1['Aff']-SWdown_M_1['Ctl'], LWdown_M_1['Aff']-LWdown_M_1['Ctl'], LHF_M_1['Aff']-LHF_M_1['Ctl'], G_M_1['Aff']-G_M_1['Ctl'], 'Northern', -30, 30)\n",
    "\n",
    "ax1 = plt.subplot(525, frameon=True)\n",
    "plt.ylabel('$\\\\Delta$Energy flux ($\\mathregular{W/m^2}$)', fontsize=16)\n",
    "plt.title('e', fontsize=14, loc='left', weight='bold')\n",
    "plot_delta_TSA_SHF(SHF_M_2['Aff']-SHF_M_2['Ctl'], LWup_M_2['Aff']-LWup_M_2['Ctl'], 'Aff', SWup_M_2['Aff']-SWup_M_2['Ctl'], SWdown_M_2['Aff']-SWdown_M_2['Ctl'], LWdown_M_2['Aff']-LWdown_M_2['Ctl'], LHF_M_2['Aff']-LHF_M_2['Ctl'], G_M_2['Aff']-G_M_2['Ctl'], 'Atlantic', -10, 10)\n",
    "\n",
    "ax1 = plt.subplot(527, frameon=True)\n",
    "plt.ylabel('$\\\\Delta$Energy flux ($\\mathregular{W/m^2}$)', fontsize=16)\n",
    "plt.title('g', fontsize=14, loc='left', weight='bold')\n",
    "plot_delta_TSA_SHF(SHF_M_3['Aff']-SHF_M_3['Ctl'], LWup_M_3['Aff']-LWup_M_3['Ctl'], 'Aff', SWup_M_3['Aff']-SWup_M_3['Ctl'], SWdown_M_3['Aff']-SWdown_M_3['Ctl'], LWdown_M_3['Aff']-LWdown_M_3['Ctl'], LHF_M_3['Aff']-LHF_M_3['Ctl'], G_M_3['Aff']-G_M_3['Ctl'], 'Continental', -10, 10)\n",
    "\n",
    "ax1 = plt.subplot(529, frameon=True)\n",
    "plt.ylabel('$\\\\Delta$Energy flux ($\\mathregular{W/m^2}$)', fontsize=16)\n",
    "plt.title('i', fontsize=14, loc='left', weight='bold')\n",
    "plot_delta_TSA_SHF(SHF_M_4['Aff']-SHF_M_4['Ctl'], LWup_M_4['Aff']-LWup_M_4['Ctl'], 'Aff', SWup_M_4['Aff']-SWup_M_4['Ctl'], SWdown_M_4['Aff']-SWdown_M_4['Ctl'], LWdown_M_4['Aff']-LWdown_M_4['Ctl'], LHF_M_4['Aff']-LHF_M_4['Ctl'], G_M_4['Aff']-G_M_4['Ctl'], 'Southern', -10, 10)\n",
    "\n",
    "\n",
    "\n",
    "ax1 = plt.subplot(522, frameon=True)\n",
    "plt.title('b', fontsize=14, loc='left', weight='bold')\n",
    "plot_delta_TSA_SHF(SHF_M_0['AfB']-SHF_M_0['Ctl'], LWup_M_0['AfB']-LWup_M_0['Ctl'], 'AfB', SWup_M_0['AfB']-SWup_M_0['Ctl'], SWdown_M_0['AfB']-SWdown_M_0['Ctl'], LWdown_M_0['AfB']-LWdown_M_0['Ctl'], LHF_M_0['AfB']-LHF_M_0['Ctl'], G_M_0['AfB']-G_M_0['Ctl'], 'Alpine', -20, 20)\n",
    "\n",
    "\n",
    "ax1 = plt.subplot(524, frameon=True)\n",
    "plt.title('d', fontsize=14, loc='left', weight='bold')\n",
    "plot_delta_TSA_SHF(SHF_M_1['AfB']-SHF_M_1['Ctl'], LWup_M_1['AfB']-LWup_M_1['Ctl'], 'AfB', SWup_M_1['AfB']-SWup_M_1['Ctl'], SWdown_M_1['AfB']-SWdown_M_1['Ctl'], LWdown_M_1['AfB']-LWdown_M_1['Ctl'], LHF_M_1['AfB']-LHF_M_1['Ctl'], G_M_1['AfB']-G_M_1['Ctl'], 'Northern', -30, 30)\n",
    "\n",
    "ax1 = plt.subplot(526, frameon=True)\n",
    "plt.title('f', fontsize=14, loc='left', weight='bold')\n",
    "plot_delta_TSA_SHF(SHF_M_2['AfB']-SHF_M_2['Ctl'], LWup_M_2['AfB']-LWup_M_2['Ctl'], 'AfB', SWup_M_2['AfB']-SWup_M_2['Ctl'], SWdown_M_2['AfB']-SWdown_M_2['Ctl'], LWdown_M_2['AfB']-LWdown_M_2['Ctl'], LHF_M_2['AfB']-LHF_M_2['Ctl'], G_M_2['AfB']-G_M_2['Ctl'], 'Atlantic', -10, 10)\n",
    "\n",
    "ax1 = plt.subplot(528, frameon=True)\n",
    "plt.title('h', fontsize=14, loc='left', weight='bold')\n",
    "plot_delta_TSA_SHF(SHF_M_3['AfB']-SHF_M_3['Ctl'], LWup_M_3['AfB']-LWup_M_3['Ctl'], 'AfB', SWup_M_3['AfB']-SWup_M_3['Ctl'], SWdown_M_3['AfB']-SWdown_M_3['Ctl'], LWdown_M_3['AfB']-LWdown_M_3['Ctl'], LHF_M_3['AfB']-LHF_M_3['Ctl'], G_M_3['AfB']-G_M_3['Ctl'], 'Continental', -10, 10)\n",
    "\n",
    "ax1 = plt.subplot(5,2,10, frameon=True)\n",
    "plt.title('j', fontsize=14, loc='left', weight='bold')\n",
    "plot_delta_TSA_SHF(SHF_M_4['AfB']-SHF_M_4['Ctl'], LWup_M_4['AfB']-LWup_M_4['Ctl'], 'AfB', SWup_M_4['AfB']-SWup_M_4['Ctl'], SWdown_M_4['AfB']-SWdown_M_4['Ctl'], LWdown_M_4['AfB']-LWdown_M_4['Ctl'], LHF_M_4['AfB']-LHF_M_4['Ctl'], G_M_4['AfB']-G_M_4['Ctl'], 'Southern', -10, 10)\n"
   ]
  },
  {
   "cell_type": "code",
   "execution_count": null,
   "id": "05f83b41-0b13-49f2-8ab4-534d67ee0362",
   "metadata": {},
   "outputs": [],
   "source": []
  }
 ],
 "metadata": {
  "kernelspec": {
   "display_name": "Python (iacpy3_2024)",
   "language": "python",
   "name": "iacpy3_2024"
  },
  "language_info": {
   "codemirror_mode": {
    "name": "ipython",
    "version": 3
   },
   "file_extension": ".py",
   "mimetype": "text/x-python",
   "name": "python",
   "nbconvert_exporter": "python",
   "pygments_lexer": "ipython3",
   "version": "3.11.8"
  }
 },
 "nbformat": 4,
 "nbformat_minor": 5
}
